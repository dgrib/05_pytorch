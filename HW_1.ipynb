{
  "cells": [
    {
      "cell_type": "code",
      "execution_count": 1,
      "metadata": {
        "id": "_CNZn_3CofVO"
      },
      "outputs": [],
      "source": [
        "import torch"
      ]
    },
    {
      "cell_type": "code",
      "execution_count": 2,
      "metadata": {
        "id": "QGYTKAxeofVR",
        "colab": {
          "base_uri": "https://localhost:8080/"
        },
        "outputId": "bf527295-9ae8-4b5d-a059-c49d5b3b2f03"
      },
      "outputs": [
        {
          "output_type": "execute_result",
          "data": {
            "text/plain": [
              "(tensor([[[-0.8380,  0.4305, -0.1239, -0.7449, -0.5318],\n",
              "          [ 0.8528, -0.2518,  0.0977,  0.5378, -0.9731],\n",
              "          [ 0.5684,  0.1301, -1.1808,  0.5905, -0.5835],\n",
              "          [ 0.2277, -1.4556,  1.7186,  0.3101, -0.7552]],\n",
              " \n",
              "         [[-0.0479, -0.8007,  1.2252,  0.9343,  1.2153],\n",
              "          [-0.6835, -3.2434,  0.3007,  2.2330, -0.7055],\n",
              "          [-0.5312,  1.4174, -0.9492,  1.3799, -0.6286],\n",
              "          [-0.0507,  2.4636,  1.5657, -1.2518, -0.0035]],\n",
              " \n",
              "         [[-0.1966, -0.7796, -0.4625, -2.2089,  1.1863],\n",
              "          [ 0.5667, -0.9487, -1.4990,  0.6289, -1.5619],\n",
              "          [-1.3476,  0.7282, -0.8810,  0.0706,  0.8841],\n",
              "          [-1.1705,  0.5235, -1.5248, -0.6589,  1.2575]]]),\n",
              " 'torch.FloatTensor')"
            ]
          },
          "metadata": {},
          "execution_count": 2
        }
      ],
      "source": [
        "# 1. Создайте случайный FloatTensor размера 3x4x5\n",
        "\n",
        "x = torch.randn(3, 4, 5)\n",
        "x, x.type()"
      ]
    },
    {
      "cell_type": "code",
      "execution_count": 3,
      "metadata": {
        "id": "7GV_q8DdofVV",
        "colab": {
          "base_uri": "https://localhost:8080/"
        },
        "outputId": "bbf7a5de-436c-4e60-d269-5af988e580d3"
      },
      "outputs": [
        {
          "output_type": "execute_result",
          "data": {
            "text/plain": [
              "torch.Size([3, 4, 5])"
            ]
          },
          "metadata": {},
          "execution_count": 3
        }
      ],
      "source": [
        "# 2. Выведите его форму (shape)\n",
        "x.shape"
      ]
    },
    {
      "cell_type": "code",
      "execution_count": 4,
      "metadata": {
        "id": "f1OTy65FofVX",
        "colab": {
          "base_uri": "https://localhost:8080/"
        },
        "outputId": "d67fb3fe-0a02-42b0-d156-dcae4be8edb9"
      },
      "outputs": [
        {
          "output_type": "execute_result",
          "data": {
            "text/plain": [
              "tensor([[-0.8380,  0.4305, -0.1239, -0.7449, -0.5318,  0.8528, -0.2518,  0.0977,\n",
              "          0.5378, -0.9731],\n",
              "        [ 0.5684,  0.1301, -1.1808,  0.5905, -0.5835,  0.2277, -1.4556,  1.7186,\n",
              "          0.3101, -0.7552],\n",
              "        [-0.0479, -0.8007,  1.2252,  0.9343,  1.2153, -0.6835, -3.2434,  0.3007,\n",
              "          2.2330, -0.7055],\n",
              "        [-0.5312,  1.4174, -0.9492,  1.3799, -0.6286, -0.0507,  2.4636,  1.5657,\n",
              "         -1.2518, -0.0035],\n",
              "        [-0.1966, -0.7796, -0.4625, -2.2089,  1.1863,  0.5667, -0.9487, -1.4990,\n",
              "          0.6289, -1.5619],\n",
              "        [-1.3476,  0.7282, -0.8810,  0.0706,  0.8841, -1.1705,  0.5235, -1.5248,\n",
              "         -0.6589,  1.2575]])"
            ]
          },
          "metadata": {},
          "execution_count": 4
        }
      ],
      "source": [
        "# 3. Приведите его к форме 6х10\n",
        "x = x.reshape(6, 10)\n",
        "x"
      ]
    },
    {
      "cell_type": "code",
      "execution_count": 5,
      "metadata": {
        "id": "BEVOv9_TofVe",
        "colab": {
          "base_uri": "https://localhost:8080/"
        },
        "outputId": "b04076ba-a03b-4e2d-9883-be1df1fbf096"
      },
      "outputs": [
        {
          "output_type": "execute_result",
          "data": {
            "text/plain": [
              "(tensor([4, 1, 2, 5, 5, 5, 7, 7, 0, 6], dtype=torch.int32), 'torch.IntTensor')"
            ]
          },
          "metadata": {},
          "execution_count": 5
        }
      ],
      "source": [
        "# 4. Создайте случайный IntTensor размера 10\n",
        "a = torch.randint(10, size=(10,)).type(torch.IntTensor)\n",
        "a, a.type()"
      ]
    },
    {
      "cell_type": "code",
      "execution_count": 6,
      "metadata": {
        "id": "TAX3DUiSa07K",
        "colab": {
          "base_uri": "https://localhost:8080/"
        },
        "outputId": "80a9a619-ea64-416e-d683-59037c4f2512"
      },
      "outputs": [
        {
          "output_type": "execute_result",
          "data": {
            "text/plain": [
              "tensor([[-3.3521e+00,  4.3048e-01, -2.4773e-01, -3.7244e+00, -2.6588e+00,\n",
              "          4.2641e+00, -1.7626e+00,  6.8364e-01,  0.0000e+00, -5.8388e+00],\n",
              "        [ 2.2734e+00,  1.3006e-01, -2.3616e+00,  2.9523e+00, -2.9175e+00,\n",
              "          1.1386e+00, -1.0189e+01,  1.2030e+01,  0.0000e+00, -4.5314e+00],\n",
              "        [-1.9152e-01, -8.0068e-01,  2.4505e+00,  4.6717e+00,  6.0766e+00,\n",
              "         -3.4173e+00, -2.2703e+01,  2.1050e+00,  0.0000e+00, -4.2328e+00],\n",
              "        [-2.1249e+00,  1.4174e+00, -1.8983e+00,  6.8993e+00, -3.1428e+00,\n",
              "         -2.5353e-01,  1.7245e+01,  1.0960e+01, -0.0000e+00, -2.1049e-02],\n",
              "        [-7.8638e-01, -7.7962e-01, -9.2491e-01, -1.1044e+01,  5.9316e+00,\n",
              "          2.8337e+00, -6.6408e+00, -1.0493e+01,  0.0000e+00, -9.3716e+00],\n",
              "        [-5.3902e+00,  7.2817e-01, -1.7620e+00,  3.5290e-01,  4.4207e+00,\n",
              "         -5.8527e+00,  3.6642e+00, -1.0674e+01, -0.0000e+00,  7.5451e+00]])"
            ]
          },
          "metadata": {},
          "execution_count": 6
        }
      ],
      "source": [
        "# 5. Умножьте созданный FloatTensor на созданный IntTensor поэлементно\n",
        "xa = x * a\n",
        "xa"
      ]
    },
    {
      "cell_type": "code",
      "execution_count": 7,
      "metadata": {
        "id": "eUxdWlQZofVi",
        "colab": {
          "base_uri": "https://localhost:8080/"
        },
        "outputId": "cd822fbd-1bd4-4fd5-9a91-866e327859a3"
      },
      "outputs": [
        {
          "output_type": "execute_result",
          "data": {
            "text/plain": [
              "tensor([[  88.2711,   47.2789,   17.7330,  -32.9972,   99.2252,  -77.0161],\n",
              "        [  47.2789,  298.3729,  261.6872,  -14.6851,  -62.4951, -226.4518],\n",
              "        [  17.7330,  261.6872,  614.9072, -359.7471,  141.6217,  -92.9520],\n",
              "        [ -32.9972,  -14.6851, -359.7471,  485.1937, -322.5705,  -48.0985],\n",
              "        [  99.2252,  -62.4951,  141.6217, -322.5705,  409.3109,   27.9997],\n",
              "        [ -77.0161, -226.4518,  -92.9520,  -48.0985,   27.9997,  270.8942]])"
            ]
          },
          "metadata": {},
          "execution_count": 7
        }
      ],
      "source": [
        "# 6. Умножьте тензор матрично на себя, чтобы результат был размерности 6x6\n",
        "# Подсказка: .dot может не подойти\n",
        "\n",
        "xa_xa = xa @ xa.T\n",
        "xa_xa"
      ]
    },
    {
      "cell_type": "code",
      "execution_count": 9,
      "metadata": {
        "id": "u3V6CsNkofVj",
        "colab": {
          "base_uri": "https://localhost:8080/"
        },
        "outputId": "65b541ff-e175-443b-8539-a7f2558d3c90"
      },
      "outputs": [
        {
          "output_type": "stream",
          "name": "stdout",
          "text": [
            "dy/dx:  tensor([3.])\n",
            "dy/dz:  tensor([1.])\n",
            "dy/dt:  tensor([-75.])\n"
          ]
        }
      ],
      "source": [
        "# 7. Посчитайте производную функции y = x**3 + z - 75t в точке (1, 0.5, 2)\n",
        "\n",
        "x = torch.tensor([1.], requires_grad=True)\n",
        "z = torch.tensor([0.5], requires_grad=True)\n",
        "t = torch.tensor([2.], requires_grad=True)\n",
        "\n",
        "y = x**3 + z - 75*t\n",
        "\n",
        "y.backward()\n",
        "\n",
        "print('dy/dx: ', x.grad)\n",
        "print('dy/dz: ', z.grad)\n",
        "print('dy/dt: ', t.grad)"
      ]
    },
    {
      "cell_type": "code",
      "execution_count": 10,
      "metadata": {
        "id": "FzH6QkyxofVm",
        "colab": {
          "base_uri": "https://localhost:8080/"
        },
        "outputId": "08c80160-f735-49b6-ae13-efdaecd57c93"
      },
      "outputs": [
        {
          "output_type": "execute_result",
          "data": {
            "text/plain": [
              "tensor([[1., 1., 1., 1., 1., 1.],\n",
              "        [1., 1., 1., 1., 1., 1.],\n",
              "        [1., 1., 1., 1., 1., 1.],\n",
              "        [1., 1., 1., 1., 1., 1.],\n",
              "        [1., 1., 1., 1., 1., 1.]])"
            ]
          },
          "metadata": {},
          "execution_count": 10
        }
      ],
      "source": [
        "# 8. Создайте единичный тензор размера 5x6\n",
        "\n",
        "t_ones = torch.ones(5, 6)\n",
        "t_ones"
      ]
    },
    {
      "cell_type": "code",
      "execution_count": 11,
      "metadata": {
        "id": "z49ttvWPofVo",
        "colab": {
          "base_uri": "https://localhost:8080/"
        },
        "outputId": "f69d2f21-1cda-4940-891a-35cb4cc41540"
      },
      "outputs": [
        {
          "output_type": "execute_result",
          "data": {
            "text/plain": [
              "array([[1., 1., 1., 1., 1., 1.],\n",
              "       [1., 1., 1., 1., 1., 1.],\n",
              "       [1., 1., 1., 1., 1., 1.],\n",
              "       [1., 1., 1., 1., 1., 1.],\n",
              "       [1., 1., 1., 1., 1., 1.]], dtype=float32)"
            ]
          },
          "metadata": {},
          "execution_count": 11
        }
      ],
      "source": [
        "# 9. Переведите его в формат numpy\n",
        "\n",
        "t_ones = t_ones.numpy()\n",
        "t_ones"
      ]
    },
    {
      "cell_type": "code",
      "source": [
        ""
      ],
      "metadata": {
        "id": "Tyim7WPHnUAu"
      },
      "execution_count": null,
      "outputs": []
    }
  ],
  "metadata": {
    "colab": {
      "collapsed_sections": [],
      "name": "HW_1.ipynb",
      "provenance": []
    },
    "kernelspec": {
      "display_name": "Python 3",
      "language": "python",
      "name": "python3"
    },
    "language_info": {
      "codemirror_mode": {
        "name": "ipython",
        "version": 3
      },
      "file_extension": ".py",
      "mimetype": "text/x-python",
      "name": "python",
      "nbconvert_exporter": "python",
      "pygments_lexer": "ipython3",
      "version": "3.8.5"
    },
    "accelerator": "GPU"
  },
  "nbformat": 4,
  "nbformat_minor": 0
}