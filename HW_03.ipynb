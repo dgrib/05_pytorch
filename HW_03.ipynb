{
 "cells": [
  {
   "cell_type": "markdown",
   "metadata": {},
   "source": [
    "# HW03\n",
    "\n",
    "Будем практиковаться на датасете недвижимости (sklearn.datasets.fetch_california_housing)\n",
    "\n",
    "Ваша задача:\n",
    "\n",
    "Создать Dataset для загрузки данных\n",
    "\n",
    "Обернуть его в Dataloader\n",
    "\n",
    "Написать архитектуру сети, которая предсказывает стоимость недвижимости. Сеть должна включать BatchNorm слои и Dropout (или НЕ включать, но нужно обосновать)\n",
    "\n",
    "Сравните сходимость Adam, RMSProp и SGD, сделайте вывод по качеству работы модели\n",
    "\n",
    "train-test разделение нужно сделать с помощью sklearn random_state=13, test_size = 0.25"
   ]
  },
  {
   "cell_type": "code",
   "execution_count": 1,
   "metadata": {},
   "outputs": [],
   "source": [
    "import torch\n",
    "import torch.nn as nn\n",
    "import sklearn\n",
    "import numpy as np\n",
    "import pandas as pd\n",
    "import torchmetrics\n",
    "import torch.nn.functional as F\n",
    "\n",
    "from sklearn.datasets import fetch_california_housing\n",
    "from sklearn.model_selection import train_test_split\n",
    "from sklearn.preprocessing import MinMaxScaler, StandardScaler\n",
    "from torch.utils.data import DataLoader, Dataset\n",
    "import matplotlib.pyplot as plt"
   ]
  },
  {
   "cell_type": "code",
   "execution_count": 2,
   "metadata": {},
   "outputs": [
    {
     "data": {
      "text/plain": [
       "{'data': array([[   8.3252    ,   41.        ,    6.98412698, ...,    2.55555556,\n",
       "           37.88      , -122.23      ],\n",
       "        [   8.3014    ,   21.        ,    6.23813708, ...,    2.10984183,\n",
       "           37.86      , -122.22      ],\n",
       "        [   7.2574    ,   52.        ,    8.28813559, ...,    2.80225989,\n",
       "           37.85      , -122.24      ],\n",
       "        ...,\n",
       "        [   1.7       ,   17.        ,    5.20554273, ...,    2.3256351 ,\n",
       "           39.43      , -121.22      ],\n",
       "        [   1.8672    ,   18.        ,    5.32951289, ...,    2.12320917,\n",
       "           39.43      , -121.32      ],\n",
       "        [   2.3886    ,   16.        ,    5.25471698, ...,    2.61698113,\n",
       "           39.37      , -121.24      ]]),\n",
       " 'target': array([4.526, 3.585, 3.521, ..., 0.923, 0.847, 0.894]),\n",
       " 'frame': None,\n",
       " 'target_names': ['MedHouseVal'],\n",
       " 'feature_names': ['MedInc',\n",
       "  'HouseAge',\n",
       "  'AveRooms',\n",
       "  'AveBedrms',\n",
       "  'Population',\n",
       "  'AveOccup',\n",
       "  'Latitude',\n",
       "  'Longitude'],\n",
       " 'DESCR': '.. _california_housing_dataset:\\n\\nCalifornia Housing dataset\\n--------------------------\\n\\n**Data Set Characteristics:**\\n\\n    :Number of Instances: 20640\\n\\n    :Number of Attributes: 8 numeric, predictive attributes and the target\\n\\n    :Attribute Information:\\n        - MedInc        median income in block\\n        - HouseAge      median house age in block\\n        - AveRooms      average number of rooms\\n        - AveBedrms     average number of bedrooms\\n        - Population    block population\\n        - AveOccup      average house occupancy\\n        - Latitude      house block latitude\\n        - Longitude     house block longitude\\n\\n    :Missing Attribute Values: None\\n\\nThis dataset was obtained from the StatLib repository.\\nhttp://lib.stat.cmu.edu/datasets/\\n\\nThe target variable is the median house value for California districts.\\n\\nThis dataset was derived from the 1990 U.S. census, using one row per census\\nblock group. A block group is the smallest geographical unit for which the U.S.\\nCensus Bureau publishes sample data (a block group typically has a population\\nof 600 to 3,000 people).\\n\\nIt can be downloaded/loaded using the\\n:func:`sklearn.datasets.fetch_california_housing` function.\\n\\n.. topic:: References\\n\\n    - Pace, R. Kelley and Ronald Barry, Sparse Spatial Autoregressions,\\n      Statistics and Probability Letters, 33 (1997) 291-297\\n'}"
      ]
     },
     "execution_count": 2,
     "metadata": {},
     "output_type": "execute_result"
    }
   ],
   "source": [
    "train_dataset = sklearn.datasets.fetch_california_housing()\n",
    "train_dataset"
   ]
  },
  {
   "cell_type": "code",
   "execution_count": 3,
   "metadata": {},
   "outputs": [],
   "source": [
    "data = train_dataset.data\n",
    "target = train_dataset.target"
   ]
  },
  {
   "cell_type": "code",
   "execution_count": 4,
   "metadata": {},
   "outputs": [],
   "source": [
    "X_train, X_test, y_train, y_test = train_test_split(data, target, test_size=0.25, random_state=13)"
   ]
  },
  {
   "cell_type": "code",
   "execution_count": 5,
   "metadata": {},
   "outputs": [],
   "source": [
    "# сделаем стандарт-скейлер так как это задача регрессии и мин-макс скейлер будет хуже работать\n",
    "\n",
    "scaler = MinMaxScaler()\n",
    "# scaler = StandardScaler()\n",
    "\n",
    "X_train = scaler.fit_transform(X_train)\n",
    "X_test = scaler.transform(X_test)\n",
    "y_train = np.array(y_train)\n",
    "y_test = np.array(y_test)"
   ]
  },
  {
   "cell_type": "code",
   "execution_count": 6,
   "metadata": {
    "scrolled": true
   },
   "outputs": [],
   "source": [
    "class MyOwnCH(Dataset):\n",
    "    \n",
    "    def __init__(self, X_data, y_data):\n",
    "        self.X_data = X_data\n",
    "        self.y_data = y_data\n",
    "        \n",
    "    def __getitem__(self, index):\n",
    "        return self.X_data[index], self.y_data[index]\n",
    "        \n",
    "    def __len__ (self):\n",
    "        return len(self.X_data)\n",
    "    \n",
    "    \n",
    "train_dataset = MyOwnCH(torch.from_numpy(X_train).float(), torch.from_numpy(y_train).float())\n",
    "test_dataset = MyOwnCH(torch.from_numpy(X_test).float(), torch.from_numpy(y_test).float())"
   ]
  },
  {
   "cell_type": "code",
   "execution_count": 7,
   "metadata": {},
   "outputs": [],
   "source": [
    "train_loader = DataLoader(dataset=train_dataset, batch_size=64, shuffle=True, drop_last=True, num_workers=0)\n",
    "test_loader = DataLoader(dataset=test_dataset, batch_size=8, shuffle=False, drop_last=True, num_workers=0)"
   ]
  },
  {
   "cell_type": "code",
   "execution_count": 8,
   "metadata": {},
   "outputs": [],
   "source": [
    "class Perceptron(nn.Module):\n",
    "    def __init__(self, input_dim, output_dim, activation=\"relu\"):\n",
    "        super(Perceptron, self).__init__()\n",
    "        self.fc = nn.Linear(input_dim, output_dim)\n",
    "        self.activation = activation\n",
    "        \n",
    "    def forward(self, x):\n",
    "        x = self.fc(x)\n",
    "        if self.activation == \"relu\":\n",
    "            return F.relu(x)\n",
    "        if self.activation == \"sigmoid\":\n",
    "            return F.sigmoid(x)\n",
    "        raise RuntimeError\n",
    "        \n",
    "class FeedForward(nn.Module):\n",
    "    def __init__(self, input_dim, hidden_dim):\n",
    "        super(FeedForward, self).__init__()\n",
    "        self.bn1 = nn.BatchNorm1d(input_dim)\n",
    "        self.fc1 = Perceptron(input_dim, 2 * hidden_dim)\n",
    "        self.dp1 = nn.Dropout(0.25)\n",
    "        self.bn2 = nn.BatchNorm1d(2 * hidden_dim)\n",
    "        self.fc2 = Perceptron(2 * hidden_dim, hidden_dim)\n",
    "        self.dp2 = nn.Dropout(0.25)\n",
    "        self.bn3 = nn.BatchNorm1d(hidden_dim)\n",
    "        self.fc3 = Perceptron(hidden_dim, 1)\n",
    "        \n",
    "    def forward(self, x):\n",
    "        x = self.bn1(x)\n",
    "        x = self.fc1(x)\n",
    "        x = self.dp1(x)\n",
    "        x = self.bn2(x)\n",
    "        x = self.fc2(x)\n",
    "        x = self.dp2(x)\n",
    "        x = self.bn3(x)\n",
    "        x = self.fc3(x)\n",
    "        return x"
   ]
  },
  {
   "cell_type": "code",
   "execution_count": 9,
   "metadata": {},
   "outputs": [],
   "source": [
    "def model_comparing(model, optimizer):    \n",
    "    \n",
    "    train_r2 = torchmetrics.R2Score()\n",
    "    test_r2 = torchmetrics.R2Score()\n",
    "\n",
    "    r2_train_list = []\n",
    "    r2_test_list = []\n",
    "    \n",
    "    for epoch in range(30):\n",
    "        \n",
    "        model.train()\n",
    "        \n",
    "        for i, data in enumerate(train_loader):\n",
    "            inputs, target = data[0], data[1]\n",
    "            optimizer.zero_grad()\n",
    "            outputs = model(inputs)\n",
    "            batch_r2 = train_r2(outputs.squeeze(), target)\n",
    "            # Рассчитываем лосс-функцию (функцию потерь)\n",
    "            loss = criterion(outputs.squeeze(), target)\n",
    "            loss.backward()\n",
    "            optimizer.step()\n",
    "        \n",
    "        model.eval()\n",
    "        \n",
    "        for i, data in enumerate(test_loader):\n",
    "            inputs, target = data[0], data[1]\n",
    "            outputs = model(inputs)\n",
    "            test_r2(outputs.squeeze(), target)\n",
    "\n",
    "        # total r2 over all training batches\n",
    "        total_train_r2 = train_r2.compute()\n",
    "        # total r2 over all training batches\n",
    "        total_test_r2 = test_r2.compute()\n",
    "        \n",
    "        r2_train_list.append(total_train_r2)\n",
    "        r2_test_list.append(total_test_r2)\n",
    "        print(f'Epoch {epoch+1}: r2_train = {total_train_r2}, r2_test = {total_test_r2}')\n",
    "\n",
    "        #reset for next epoch\n",
    "        train_r2.reset()\n",
    "        test_r2.reset()\n",
    "    \n",
    "    return r2_train_list, r2_test_list"
   ]
  },
  {
   "cell_type": "code",
   "execution_count": 10,
   "metadata": {},
   "outputs": [],
   "source": [
    "def metrics_view(r2_train_list, r2_test_list, optim):\n",
    "    \n",
    "    epoch = np.arange(1,31,1)\n",
    "    y_train = r2_train_list\n",
    "    y_test = r2_test_list\n",
    "    plt.plot(epoch, y_train, label='R2_train')\n",
    "    plt.plot(epoch, y_test, label='R2_test')\n",
    "    plt.title(f\"{optim}\")   \n",
    "    plt.ylabel('R2_score')   \n",
    "    plt.xlabel('epochs')   \n",
    "    plt.legend()\n",
    "    plt.show()"
   ]
  },
  {
   "cell_type": "markdown",
   "metadata": {},
   "source": [
    "### SGD"
   ]
  },
  {
   "cell_type": "code",
   "execution_count": 18,
   "metadata": {},
   "outputs": [
    {
     "name": "stdout",
     "output_type": "stream",
     "text": [
      "FeedForward(\n",
      "  (bn1): BatchNorm1d(8, eps=1e-05, momentum=0.1, affine=True, track_running_stats=True)\n",
      "  (fc1): Perceptron(\n",
      "    (fc): Linear(in_features=8, out_features=800, bias=True)\n",
      "  )\n",
      "  (dp1): Dropout(p=0.25, inplace=False)\n",
      "  (bn2): BatchNorm1d(800, eps=1e-05, momentum=0.1, affine=True, track_running_stats=True)\n",
      "  (fc2): Perceptron(\n",
      "    (fc): Linear(in_features=800, out_features=400, bias=True)\n",
      "  )\n",
      "  (dp2): Dropout(p=0.25, inplace=False)\n",
      "  (bn3): BatchNorm1d(400, eps=1e-05, momentum=0.1, affine=True, track_running_stats=True)\n",
      "  (fc3): Perceptron(\n",
      "    (fc): Linear(in_features=400, out_features=1, bias=True)\n",
      "  )\n",
      ")\n",
      "Epoch 1: r2_train = -0.896540641784668, r2_test = -0.1112372875213623\n",
      "Epoch 2: r2_train = -0.26140713691711426, r2_test = 0.0778244137763977\n",
      "Epoch 3: r2_train = -0.10377156734466553, r2_test = 0.10708779096603394\n",
      "Epoch 4: r2_train = -0.023073434829711914, r2_test = 0.21341747045516968\n",
      "Epoch 5: r2_train = 0.047219932079315186, r2_test = 0.2520333528518677\n",
      "Epoch 6: r2_train = 0.0865132212638855, r2_test = 0.2854735255241394\n",
      "Epoch 7: r2_train = 0.1351104974746704, r2_test = 0.2996174693107605\n",
      "Epoch 8: r2_train = 0.1791607141494751, r2_test = 0.31219422817230225\n",
      "Epoch 9: r2_train = 0.21202462911605835, r2_test = 0.34652048349380493\n",
      "Epoch 10: r2_train = 0.2394014596939087, r2_test = 0.39738327264785767\n",
      "Epoch 11: r2_train = 0.2651210427284241, r2_test = 0.41655421257019043\n",
      "Epoch 12: r2_train = 0.30104923248291016, r2_test = 0.3901880979537964\n",
      "Epoch 13: r2_train = 0.3141074776649475, r2_test = 0.41471409797668457\n",
      "Epoch 14: r2_train = 0.33930158615112305, r2_test = 0.4100576639175415\n",
      "Epoch 15: r2_train = 0.3470157980918884, r2_test = 0.41153961420059204\n",
      "Epoch 16: r2_train = 0.3472275137901306, r2_test = 0.4209171533584595\n",
      "Epoch 17: r2_train = 0.37162530422210693, r2_test = 0.4855676293373108\n",
      "Epoch 18: r2_train = 0.3895699977874756, r2_test = 0.43745553493499756\n",
      "Epoch 19: r2_train = 0.39935803413391113, r2_test = 0.46571969985961914\n",
      "Epoch 20: r2_train = 0.40026915073394775, r2_test = 0.4789634943008423\n",
      "Epoch 21: r2_train = 0.4125518798828125, r2_test = 0.48539096117019653\n",
      "Epoch 22: r2_train = 0.421622633934021, r2_test = 0.4891282320022583\n",
      "Epoch 23: r2_train = 0.4226118326187134, r2_test = 0.45726585388183594\n",
      "Epoch 24: r2_train = 0.4415798783302307, r2_test = 0.48507916927337646\n",
      "Epoch 25: r2_train = 0.4524548053741455, r2_test = 0.5005218982696533\n",
      "Epoch 26: r2_train = 0.44734829664230347, r2_test = 0.5238139033317566\n",
      "Epoch 27: r2_train = 0.46409279108047485, r2_test = 0.525651216506958\n",
      "Epoch 28: r2_train = 0.4640740156173706, r2_test = 0.4955020546913147\n",
      "Epoch 29: r2_train = 0.4731557369232178, r2_test = 0.552609920501709\n",
      "Epoch 30: r2_train = 0.47876137495040894, r2_test = 0.544769287109375\n"
     ]
    }
   ],
   "source": [
    "model = FeedForward(8, 400)\n",
    "print(model)\n",
    "criterion = nn.MSELoss()\n",
    "optimizer = torch.optim.SGD(model.parameters(), lr=0.0005, momentum=0.0)\n",
    "r2_train_SGD, r2_test_SGD = model_comparing(model, optimizer)\n",
    "\n",
    "# optimizer = torch.optim.SGD(model.parameters(), lr=0.01)"
   ]
  },
  {
   "cell_type": "code",
   "execution_count": 19,
   "metadata": {
    "scrolled": true
   },
   "outputs": [
    {
     "data": {
      "image/png": "[encoded data removed]",
      "text/plain": [
       "<Figure size 432x288 with 1 Axes>"
      ]
     },
     "metadata": {
      "needs_background": "light"
     },
     "output_type": "display_data"
    }
   ],
   "source": [
    "metrics_view(r2_train_SGD, r2_test_SGD, 'SGD')"
   ]
  },
  {
   "cell_type": "markdown",
   "metadata": {},
   "source": [
    "### RMSprop"
   ]
  },
  {
   "cell_type": "code",
   "execution_count": 13,
   "metadata": {},
   "outputs": [
    {
     "name": "stdout",
     "output_type": "stream",
     "text": [
      "Epoch 1: r2_train = 0.27211564779281616, r2_test = 0.5514471530914307\n",
      "Epoch 2: r2_train = 0.507354199886322, r2_test = 0.6196457743644714\n",
      "Epoch 3: r2_train = 0.5694646835327148, r2_test = 0.627239465713501\n",
      "Epoch 4: r2_train = 0.6040827035903931, r2_test = 0.6854752898216248\n",
      "Epoch 5: r2_train = 0.6351498365402222, r2_test = 0.7064467668533325\n",
      "Epoch 6: r2_train = 0.6437362432479858, r2_test = 0.6607379913330078\n",
      "Epoch 7: r2_train = 0.660352349281311, r2_test = 0.7090966701507568\n",
      "Epoch 8: r2_train = 0.6647849678993225, r2_test = 0.7226122617721558\n",
      "Epoch 9: r2_train = 0.6689372658729553, r2_test = 0.72725510597229\n",
      "Epoch 10: r2_train = 0.6790671348571777, r2_test = 0.689877986907959\n",
      "Epoch 11: r2_train = 0.6794331669807434, r2_test = 0.7008248567581177\n",
      "Epoch 12: r2_train = 0.6891615390777588, r2_test = 0.7375255823135376\n",
      "Epoch 13: r2_train = 0.6928269863128662, r2_test = 0.6534715294837952\n",
      "Epoch 14: r2_train = 0.6959517002105713, r2_test = 0.7269765138626099\n",
      "Epoch 15: r2_train = 0.6990999579429626, r2_test = 0.6875773668289185\n",
      "Epoch 16: r2_train = 0.7041274309158325, r2_test = 0.7382451295852661\n",
      "Epoch 17: r2_train = 0.7038644552230835, r2_test = 0.6741527318954468\n",
      "Epoch 18: r2_train = 0.7122232913970947, r2_test = 0.7589386701583862\n",
      "Epoch 19: r2_train = 0.7095574736595154, r2_test = 0.751718282699585\n",
      "Epoch 20: r2_train = 0.7200557589530945, r2_test = 0.7595703601837158\n",
      "Epoch 21: r2_train = 0.7197317481040955, r2_test = 0.755018949508667\n",
      "Epoch 22: r2_train = 0.7218108177185059, r2_test = 0.6808161735534668\n",
      "Epoch 23: r2_train = 0.7262621521949768, r2_test = 0.761461079120636\n",
      "Epoch 24: r2_train = 0.7280880808830261, r2_test = 0.7628543376922607\n",
      "Epoch 25: r2_train = 0.7337251901626587, r2_test = 0.769935667514801\n",
      "Epoch 26: r2_train = 0.730374813079834, r2_test = 0.6983885765075684\n",
      "Epoch 27: r2_train = 0.7369910478591919, r2_test = 0.7004204988479614\n",
      "Epoch 28: r2_train = 0.7343328595161438, r2_test = 0.7486875057220459\n",
      "Epoch 29: r2_train = 0.7333994507789612, r2_test = 0.7604593634605408\n",
      "Epoch 30: r2_train = 0.7397305965423584, r2_test = 0.7472014427185059\n"
     ]
    }
   ],
   "source": [
    "model = FeedForward(8, 400)\n",
    "# print(model)\n",
    "criterion = nn.MSELoss()\n",
    "optimizer = torch.optim.RMSprop(model.parameters(), lr=0.0005)\n",
    "r2_train_RMSprop, r2_test_RMSprop = model_comparing(model, optimizer)"
   ]
  },
  {
   "cell_type": "code",
   "execution_count": 14,
   "metadata": {},
   "outputs": [
    {
     "data": {
      "image/png": "[encoded data removed]",
      "text/plain": [
       "<Figure size 432x288 with 1 Axes>"
      ]
     },
     "metadata": {
      "needs_background": "light"
     },
     "output_type": "display_data"
    }
   ],
   "source": [
    "metrics_view(r2_train_RMSprop, r2_test_RMSprop, 'RMSprop')"
   ]
  },
  {
   "cell_type": "markdown",
   "metadata": {},
   "source": [
    "### ADAM"
   ]
  },
  {
   "cell_type": "code",
   "execution_count": 15,
   "metadata": {
    "scrolled": false
   },
   "outputs": [
    {
     "name": "stdout",
     "output_type": "stream",
     "text": [
      "Epoch 1: r2_train = 0.07198303937911987, r2_test = 0.4312399625778198\n",
      "Epoch 2: r2_train = 0.42883026599884033, r2_test = 0.556553840637207\n",
      "Epoch 3: r2_train = 0.5462788939476013, r2_test = 0.6597027778625488\n",
      "Epoch 4: r2_train = 0.5894927978515625, r2_test = 0.6345899701118469\n",
      "Epoch 5: r2_train = 0.6136442422866821, r2_test = 0.679080069065094\n",
      "Epoch 6: r2_train = 0.6310745477676392, r2_test = 0.7025913000106812\n",
      "Epoch 7: r2_train = 0.6472535133361816, r2_test = 0.6427621841430664\n",
      "Epoch 8: r2_train = 0.657583475112915, r2_test = 0.677667498588562\n",
      "Epoch 9: r2_train = 0.6678245067596436, r2_test = 0.6698086261749268\n",
      "Epoch 10: r2_train = 0.6706790328025818, r2_test = 0.7393333911895752\n",
      "Epoch 11: r2_train = 0.6757856011390686, r2_test = 0.7180047631263733\n",
      "Epoch 12: r2_train = 0.6767558455467224, r2_test = 0.7282135486602783\n",
      "Epoch 13: r2_train = 0.6858181953430176, r2_test = 0.7354901432991028\n",
      "Epoch 14: r2_train = 0.6976994276046753, r2_test = 0.6990693807601929\n",
      "Epoch 15: r2_train = 0.6990442276000977, r2_test = 0.7539124488830566\n",
      "Epoch 16: r2_train = 0.7081923484802246, r2_test = 0.7418624758720398\n",
      "Epoch 17: r2_train = 0.7034634947776794, r2_test = 0.7315835952758789\n",
      "Epoch 18: r2_train = 0.7128547430038452, r2_test = 0.7540536522865295\n",
      "Epoch 19: r2_train = 0.7151118516921997, r2_test = 0.6773682832717896\n",
      "Epoch 20: r2_train = 0.7198120355606079, r2_test = 0.7370322942733765\n",
      "Epoch 21: r2_train = 0.722480058670044, r2_test = 0.7493425607681274\n",
      "Epoch 22: r2_train = 0.7292950749397278, r2_test = 0.6966428756713867\n",
      "Epoch 23: r2_train = 0.7303786277770996, r2_test = 0.6843990683555603\n",
      "Epoch 24: r2_train = 0.7353165149688721, r2_test = 0.7718724012374878\n",
      "Epoch 25: r2_train = 0.7377986907958984, r2_test = 0.749613881111145\n",
      "Epoch 26: r2_train = 0.7380807399749756, r2_test = 0.6994239687919617\n",
      "Epoch 27: r2_train = 0.7374258041381836, r2_test = 0.7237664461135864\n",
      "Epoch 28: r2_train = 0.739662230014801, r2_test = 0.7688332796096802\n",
      "Epoch 29: r2_train = 0.7446959614753723, r2_test = 0.7262716293334961\n",
      "Epoch 30: r2_train = 0.7396340370178223, r2_test = 0.7422616481781006\n"
     ]
    }
   ],
   "source": [
    "model = FeedForward(8, 400)\n",
    "# print(model)\n",
    "criterion = nn.MSELoss()\n",
    "optimizer = torch.optim.Adam(model.parameters(), lr=0.0005)\n",
    "r2_train_Adam, r2_test_Adam = model_comparing(model, optimizer)"
   ]
  },
  {
   "cell_type": "code",
   "execution_count": 16,
   "metadata": {},
   "outputs": [
    {
     "data": {
      "image/png": "[encoded data removed]",
      "text/plain": [
       "<Figure size 432x288 with 1 Axes>"
      ]
     },
     "metadata": {
      "needs_background": "light"
     },
     "output_type": "display_data"
    }
   ],
   "source": [
    "metrics_view(r2_train_Adam, r2_test_Adam, 'Adam')"
   ]
  },
  {
   "cell_type": "markdown",
   "metadata": {},
   "source": [
    "### Сравнение метрик"
   ]
  },
  {
   "cell_type": "code",
   "execution_count": 20,
   "metadata": {},
   "outputs": [
    {
     "data": {
      "text/html": [
       "<div>\n",
       "<style scoped>\n",
       "    .dataframe tbody tr th:only-of-type {\n",
       "        vertical-align: middle;\n",
       "    }\n",
       "\n",
       "    .dataframe tbody tr th {\n",
       "        vertical-align: top;\n",
       "    }\n",
       "\n",
       "    .dataframe thead th {\n",
       "        text-align: right;\n",
       "    }\n",
       "</style>\n",
       "<table border=\"1\" class=\"dataframe\">\n",
       "  <thead>\n",
       "    <tr style=\"text-align: right;\">\n",
       "      <th></th>\n",
       "      <th>r2_train</th>\n",
       "      <th>r2_test</th>\n",
       "    </tr>\n",
       "  </thead>\n",
       "  <tbody>\n",
       "    <tr>\n",
       "      <th>RMSprop</th>\n",
       "      <td>0.739731</td>\n",
       "      <td>0.747201</td>\n",
       "    </tr>\n",
       "    <tr>\n",
       "      <th>Adam</th>\n",
       "      <td>0.739634</td>\n",
       "      <td>0.742262</td>\n",
       "    </tr>\n",
       "    <tr>\n",
       "      <th>SGD</th>\n",
       "      <td>0.478761</td>\n",
       "      <td>0.544769</td>\n",
       "    </tr>\n",
       "  </tbody>\n",
       "</table>\n",
       "</div>"
      ],
      "text/plain": [
       "         r2_train   r2_test\n",
       "RMSprop  0.739731  0.747201\n",
       "Adam     0.739634  0.742262\n",
       "SGD      0.478761  0.544769"
      ]
     },
     "execution_count": 20,
     "metadata": {},
     "output_type": "execute_result"
    }
   ],
   "source": [
    "metrics_result = pd.DataFrame([{'r2_train': r2_train_SGD[-1].item(), 'r2_test': r2_test_SGD[-1].item()},\n",
    "                               {'r2_train': r2_train_RMSprop[-1].item(), 'r2_test': r2_test_RMSprop[-1].item()},\n",
    "                               {'r2_train': r2_train_Adam[-1].item(), 'r2_test': r2_test_Adam[-1].item()},\n",
    "                              ],\n",
    "                              index = ['SGD', 'RMSprop', 'Adam'], \n",
    "                              columns = ['r2_train', 'r2_test'])\n",
    "\n",
    "metrics_result.sort_values(by='r2_test', ascending=False)"
   ]
  },
  {
   "cell_type": "markdown",
   "metadata": {},
   "source": [
    "Алгоримт SGD долго сходится - но достаточно стабильно. Ему требуется больше эпох, чтобы прийти к значениям метрик, которые достигаются другими алгоритмами значительно быстрее.\n",
    "\n",
    "Алгоритмы Adam и RMSprop сходятся примерно одинаково. И быстрее чем SGD."
   ]
  },
  {
   "cell_type": "code",
   "execution_count": null,
   "metadata": {},
   "outputs": [],
   "source": []
  }
 ],
 "metadata": {
  "kernelspec": {
   "display_name": "Python 3",
   "language": "python",
   "name": "python3"
  },
  "language_info": {
   "codemirror_mode": {
    "name": "ipython",
    "version": 3
   },
   "file_extension": ".py",
   "mimetype": "text/x-python",
   "name": "python",
   "nbconvert_exporter": "python",
   "pygments_lexer": "ipython3",
   "version": "3.8.5"
  }
 },
 "nbformat": 4,
 "nbformat_minor": 2
}
